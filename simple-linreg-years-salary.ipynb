{
 "cells": [
  {
   "cell_type": "code",
   "execution_count": 2,
   "id": "af2d6d58",
   "metadata": {
    "_cell_guid": "b1076dfc-b9ad-4769-8c92-a6c4dae69d19",
    "_uuid": "8f2839f25d086af736a60e9eeb907d3b93b6e0e5",
    "execution": {
     "iopub.execute_input": "2025-01-03T01:23:54.967810Z",
     "iopub.status.busy": "2025-01-03T01:23:54.967414Z",
     "iopub.status.idle": "2025-01-03T01:23:55.356852Z",
     "shell.execute_reply": "2025-01-03T01:23:55.354902Z"
    },
    "papermill": {
     "duration": 0.397248,
     "end_time": "2025-01-03T01:23:55.358633",
     "exception": false,
     "start_time": "2025-01-03T01:23:54.961385",
     "status": "completed"
    },
    "tags": []
   },
   "outputs": [],
   "source": [
    "# This Python 3 environment comes with many helpful analytics libraries installed\n",
    "# It is defined by the kaggle/python Docker image: https://github.com/kaggle/docker-python\n",
    "# For example, here's several helpful packages to load\n",
    "\n",
    "import numpy as np # linear algebra\n",
    "import pandas as pd # data processing, CSV file I/O (e.g. pd.read_csv)\n"
   ]
  },
  {
   "cell_type": "code",
   "execution_count": 3,
   "id": "aa8b54d7",
   "metadata": {
    "execution": {
     "iopub.execute_input": "2025-01-03T01:23:55.368563Z",
     "iopub.status.busy": "2025-01-03T01:23:55.368076Z",
     "iopub.status.idle": "2025-01-03T01:23:55.390267Z",
     "shell.execute_reply": "2025-01-03T01:23:55.388846Z"
    },
    "papermill": {
     "duration": 0.029221,
     "end_time": "2025-01-03T01:23:55.392343",
     "exception": false,
     "start_time": "2025-01-03T01:23:55.363122",
     "status": "completed"
    },
    "tags": []
   },
   "outputs": [],
   "source": [
    "salaryExp = pd.read_csv('Salary_dataset.csv')"
   ]
  },
  {
   "cell_type": "code",
   "execution_count": 4,
   "id": "064d5257",
   "metadata": {
    "execution": {
     "iopub.execute_input": "2025-01-03T01:23:55.401790Z",
     "iopub.status.busy": "2025-01-03T01:23:55.401416Z",
     "iopub.status.idle": "2025-01-03T01:23:55.421878Z",
     "shell.execute_reply": "2025-01-03T01:23:55.420849Z"
    },
    "papermill": {
     "duration": 0.026954,
     "end_time": "2025-01-03T01:23:55.423497",
     "exception": false,
     "start_time": "2025-01-03T01:23:55.396543",
     "status": "completed"
    },
    "tags": []
   },
   "outputs": [
    {
     "data": {
      "text/html": [
       "<div>\n",
       "<style scoped>\n",
       "    .dataframe tbody tr th:only-of-type {\n",
       "        vertical-align: middle;\n",
       "    }\n",
       "\n",
       "    .dataframe tbody tr th {\n",
       "        vertical-align: top;\n",
       "    }\n",
       "\n",
       "    .dataframe thead th {\n",
       "        text-align: right;\n",
       "    }\n",
       "</style>\n",
       "<table border=\"1\" class=\"dataframe\">\n",
       "  <thead>\n",
       "    <tr style=\"text-align: right;\">\n",
       "      <th></th>\n",
       "      <th>Unnamed: 0</th>\n",
       "      <th>YearsExperience</th>\n",
       "      <th>Salary</th>\n",
       "    </tr>\n",
       "  </thead>\n",
       "  <tbody>\n",
       "    <tr>\n",
       "      <th>0</th>\n",
       "      <td>0</td>\n",
       "      <td>1.2</td>\n",
       "      <td>39344.0</td>\n",
       "    </tr>\n",
       "    <tr>\n",
       "      <th>1</th>\n",
       "      <td>1</td>\n",
       "      <td>1.4</td>\n",
       "      <td>46206.0</td>\n",
       "    </tr>\n",
       "    <tr>\n",
       "      <th>2</th>\n",
       "      <td>2</td>\n",
       "      <td>1.6</td>\n",
       "      <td>37732.0</td>\n",
       "    </tr>\n",
       "    <tr>\n",
       "      <th>3</th>\n",
       "      <td>3</td>\n",
       "      <td>2.1</td>\n",
       "      <td>43526.0</td>\n",
       "    </tr>\n",
       "    <tr>\n",
       "      <th>4</th>\n",
       "      <td>4</td>\n",
       "      <td>2.3</td>\n",
       "      <td>39892.0</td>\n",
       "    </tr>\n",
       "  </tbody>\n",
       "</table>\n",
       "</div>"
      ],
      "text/plain": [
       "   Unnamed: 0  YearsExperience   Salary\n",
       "0           0              1.2  39344.0\n",
       "1           1              1.4  46206.0\n",
       "2           2              1.6  37732.0\n",
       "3           3              2.1  43526.0\n",
       "4           4              2.3  39892.0"
      ]
     },
     "execution_count": 4,
     "metadata": {},
     "output_type": "execute_result"
    }
   ],
   "source": [
    "salaryExp.head()"
   ]
  },
  {
   "cell_type": "code",
   "execution_count": 5,
   "id": "21d747cf",
   "metadata": {
    "execution": {
     "iopub.execute_input": "2025-01-03T01:23:55.433337Z",
     "iopub.status.busy": "2025-01-03T01:23:55.432997Z",
     "iopub.status.idle": "2025-01-03T01:23:55.440457Z",
     "shell.execute_reply": "2025-01-03T01:23:55.439533Z"
    },
    "papermill": {
     "duration": 0.014037,
     "end_time": "2025-01-03T01:23:55.441919",
     "exception": false,
     "start_time": "2025-01-03T01:23:55.427882",
     "status": "completed"
    },
    "tags": []
   },
   "outputs": [
    {
     "data": {
      "text/plain": [
       "Index(['Unnamed: 0', 'YearsExperience', 'Salary'], dtype='object')"
      ]
     },
     "execution_count": 5,
     "metadata": {},
     "output_type": "execute_result"
    }
   ],
   "source": [
    "salaryExp.columns"
   ]
  },
  {
   "cell_type": "code",
   "execution_count": 6,
   "id": "29c5da1f",
   "metadata": {
    "execution": {
     "iopub.execute_input": "2025-01-03T01:23:55.451583Z",
     "iopub.status.busy": "2025-01-03T01:23:55.451258Z",
     "iopub.status.idle": "2025-01-03T01:23:55.455294Z",
     "shell.execute_reply": "2025-01-03T01:23:55.454492Z"
    },
    "papermill": {
     "duration": 0.010785,
     "end_time": "2025-01-03T01:23:55.457013",
     "exception": false,
     "start_time": "2025-01-03T01:23:55.446228",
     "status": "completed"
    },
    "tags": []
   },
   "outputs": [],
   "source": [
    "# Our features (x) is YearsExperience\n",
    "# Our target (y) - salary \n",
    "years = salaryExp['YearsExperience']\n",
    "salary = salaryExp['Salary']"
   ]
  },
  {
   "cell_type": "code",
   "execution_count": 7,
   "id": "ef7d0e66",
   "metadata": {
    "execution": {
     "iopub.execute_input": "2025-01-03T01:23:55.470466Z",
     "iopub.status.busy": "2025-01-03T01:23:55.469940Z",
     "iopub.status.idle": "2025-01-03T01:23:55.478053Z",
     "shell.execute_reply": "2025-01-03T01:23:55.476715Z"
    },
    "papermill": {
     "duration": 0.017801,
     "end_time": "2025-01-03T01:23:55.479877",
     "exception": false,
     "start_time": "2025-01-03T01:23:55.462076",
     "status": "completed"
    },
    "tags": []
   },
   "outputs": [
    {
     "data": {
      "text/plain": [
       "((30,), (30,))"
      ]
     },
     "execution_count": 7,
     "metadata": {},
     "output_type": "execute_result"
    }
   ],
   "source": [
    "years.shape, salary.shape"
   ]
  },
  {
   "cell_type": "code",
   "execution_count": 8,
   "id": "fc67c9c4",
   "metadata": {
    "execution": {
     "iopub.execute_input": "2025-01-03T01:23:55.490061Z",
     "iopub.status.busy": "2025-01-03T01:23:55.489656Z",
     "iopub.status.idle": "2025-01-03T01:23:55.494749Z",
     "shell.execute_reply": "2025-01-03T01:23:55.493745Z"
    },
    "papermill": {
     "duration": 0.011835,
     "end_time": "2025-01-03T01:23:55.496271",
     "exception": false,
     "start_time": "2025-01-03T01:23:55.484436",
     "status": "completed"
    },
    "tags": []
   },
   "outputs": [
    {
     "name": "stdout",
     "output_type": "stream",
     "text": [
      "30\n"
     ]
    }
   ],
   "source": [
    "# number of training examples m.\n",
    "m = len(years)\n",
    "print (m)"
   ]
  },
  {
   "cell_type": "code",
   "execution_count": 9,
   "id": "95a0540d",
   "metadata": {
    "execution": {
     "iopub.execute_input": "2025-01-03T01:23:55.506698Z",
     "iopub.status.busy": "2025-01-03T01:23:55.506350Z",
     "iopub.status.idle": "2025-01-03T01:23:55.832343Z",
     "shell.execute_reply": "2025-01-03T01:23:55.831275Z"
    },
    "papermill": {
     "duration": 0.333487,
     "end_time": "2025-01-03T01:23:55.834267",
     "exception": false,
     "start_time": "2025-01-03T01:23:55.500780",
     "status": "completed"
    },
    "tags": []
   },
   "outputs": [
    {
     "data": {
      "text/plain": [
       "Text(0, 0.5, 'Salary')"
      ]
     },
     "execution_count": 9,
     "metadata": {},
     "output_type": "execute_result"
    },
    {
     "data": {
      "image/png": "[encoded data removed]",
      "text/plain": [
       "<Figure size 640x480 with 1 Axes>"
      ]
     },
     "metadata": {},
     "output_type": "display_data"
    }
   ],
   "source": [
    "# visualise the data\n",
    "import matplotlib.pyplot as plt\n",
    "# creating a scatter plot changed the color to red and marker is o\n",
    "plt.scatter(years, salary, marker = 'o', c = 'b')\n",
    "\n",
    "# labeling the scatter plot\n",
    "plt.title(\"Salary Dataset Linear Regression Model\")\n",
    "plt.xlabel('Years of Experience')\n",
    "plt.ylabel('Salary')"
   ]
  },
  {
   "cell_type": "code",
   "execution_count": 10,
   "id": "803e39d6",
   "metadata": {
    "execution": {
     "iopub.execute_input": "2025-01-03T01:23:55.849677Z",
     "iopub.status.busy": "2025-01-03T01:23:55.849266Z",
     "iopub.status.idle": "2025-01-03T01:23:55.855855Z",
     "shell.execute_reply": "2025-01-03T01:23:55.854475Z"
    },
    "papermill": {
     "duration": 0.015193,
     "end_time": "2025-01-03T01:23:55.857663",
     "exception": false,
     "start_time": "2025-01-03T01:23:55.842470",
     "status": "completed"
    },
    "tags": []
   },
   "outputs": [
    {
     "name": "stdout",
     "output_type": "stream",
     "text": [
      "w_random: -2.0247465748356883\n",
      "b_random: -0.20748218270817054\n",
      "0.0001\n"
     ]
    }
   ],
   "source": [
    "# creating a random w, b and a (alpha)\n",
    "w_manual = np.random.randn()\n",
    "b_manual = np.random.randn()\n",
    "alpha = 0.0001\n",
    "print (f'w_random: {w_manual}')\n",
    "print (f'b_random: {b_manual}')\n",
    "print (alpha)"
   ]
  },
  {
   "cell_type": "code",
   "execution_count": 11,
   "id": "5ed6a763",
   "metadata": {
    "execution": {
     "iopub.execute_input": "2025-01-03T01:23:55.869838Z",
     "iopub.status.busy": "2025-01-03T01:23:55.869427Z",
     "iopub.status.idle": "2025-01-03T01:23:55.875920Z",
     "shell.execute_reply": "2025-01-03T01:23:55.874788Z"
    },
    "papermill": {
     "duration": 0.014227,
     "end_time": "2025-01-03T01:23:55.877527",
     "exception": false,
     "start_time": "2025-01-03T01:23:55.863300",
     "status": "completed"
    },
    "tags": []
   },
   "outputs": [
    {
     "name": "stdout",
     "output_type": "stream",
     "text": [
      "[-2.637178072510997, -3.042127387478134, -3.447076702445272, -4.459449989863117, -4.864399304830254, -6.2817219072152355, -6.484196564698804, -6.889145879665943, -6.889145879665943, -7.901519167083785, -8.306468482050924, -8.508943139534493, -8.508943139534493, -8.711417797018061, -9.521316426952337, -10.331215056886613, -10.736164371853748, -11.141113686820887, -12.3559616317223, -12.558436289205869, -14.178233549074418, -14.785657521525126, -16.405454781393676, -17.01287875384438, -18.025252041262224, -18.63267601371293, -19.645049301130776, -19.847523958614346, -21.264846560999327, -21.669795875966464]\n"
     ]
    }
   ],
   "source": [
    "# creating a line using our initial guess\n",
    "def line_guess(X, w, b):\n",
    "    y_guess = []\n",
    "    for x_value in X:\n",
    "        y_value = (w * x_value) + b\n",
    "        y_guess.append(y_value)\n",
    "    return y_guess\n",
    "\n",
    "f_wb = line_guess(years, w_manual, b_manual)\n",
    "print (f_wb)"
   ]
  },
  {
   "cell_type": "code",
   "execution_count": 12,
   "id": "7b95085b",
   "metadata": {
    "execution": {
     "iopub.execute_input": "2025-01-03T01:23:55.889556Z",
     "iopub.status.busy": "2025-01-03T01:23:55.889208Z",
     "iopub.status.idle": "2025-01-03T01:23:56.181054Z",
     "shell.execute_reply": "2025-01-03T01:23:56.179880Z"
    },
    "papermill": {
     "duration": 0.299951,
     "end_time": "2025-01-03T01:23:56.182887",
     "exception": false,
     "start_time": "2025-01-03T01:23:55.882936",
     "status": "completed"
    },
    "tags": []
   },
   "outputs": [
    {
     "data": {
      "text/plain": [
       "[<matplotlib.lines.Line2D at 0x10e4faa60>]"
      ]
     },
     "execution_count": 12,
     "metadata": {},
     "output_type": "execute_result"
    },
    {
     "data": {
      "image/png": "[encoded data removed]",
      "text/plain": [
       "<Figure size 640x480 with 1 Axes>"
      ]
     },
     "metadata": {},
     "output_type": "display_data"
    }
   ],
   "source": [
    "plt.scatter(years, salary)\n",
    "\n",
    "init_salary_guess = line_guess(years, w_manual, b_manual)\n",
    "# labeling the scatter plot\n",
    "plt.title(\"Salary Dataset Linear Regression Model\")\n",
    "plt.xlabel('Years of Experience')\n",
    "plt.ylabel('Salary')\n",
    "\n",
    "plt.plot(years, init_salary_guess, c = 'r')"
   ]
  },
  {
   "cell_type": "code",
   "execution_count": 13,
   "id": "276b0131",
   "metadata": {
    "execution": {
     "iopub.execute_input": "2025-01-03T01:23:56.196292Z",
     "iopub.status.busy": "2025-01-03T01:23:56.195930Z",
     "iopub.status.idle": "2025-01-03T01:23:56.203095Z",
     "shell.execute_reply": "2025-01-03T01:23:56.201839Z"
    },
    "papermill": {
     "duration": 0.016005,
     "end_time": "2025-01-03T01:23:56.205026",
     "exception": false,
     "start_time": "2025-01-03T01:23:56.189021",
     "status": "completed"
    },
    "tags": []
   },
   "outputs": [
    {
     "name": "stdout",
     "output_type": "stream",
     "text": [
      "[-2.637178072510997, -3.042127387478134, -3.447076702445272, -4.459449989863117, -4.864399304830254, -6.2817219072152355, -6.484196564698804, -6.889145879665943, -6.889145879665943, -7.901519167083785, -8.306468482050924, -8.508943139534493, -8.508943139534493, -8.711417797018061, -9.521316426952337, -10.331215056886613, -10.736164371853748, -11.141113686820887, -12.3559616317223, -12.558436289205869, -14.178233549074418, -14.785657521525126, -16.405454781393676, -17.01287875384438, -18.025252041262224, -18.63267601371293, -19.645049301130776, -19.847523958614346, -21.264846560999327, -21.669795875966464]\n",
      "3252551497.6885085\n"
     ]
    }
   ],
   "source": [
    "def calculate_cost(X, y, w, b):\n",
    "    m = len(X)\n",
    "    cost = 0\n",
    "    f_wb = line_guess(X, w, b)\n",
    "    for i in range(len(f_wb)):\n",
    "        cost_i = (f_wb[i] - y[i]) ** 2\n",
    "        cost += cost_i\n",
    "    j_wb = cost / (2 * m)\n",
    "    return j_wb\n",
    "\n",
    "f_wb = line_guess(years, w_manual, b_manual)\n",
    "cost = calculate_cost(years, salary, w_manual, b_manual)\n",
    "print(f_wb)\n",
    "print(cost)"
   ]
  },
  {
   "cell_type": "code",
   "execution_count": 14,
   "id": "1e8c24b4",
   "metadata": {
    "execution": {
     "iopub.execute_input": "2025-01-03T01:23:56.218890Z",
     "iopub.status.busy": "2025-01-03T01:23:56.218436Z",
     "iopub.status.idle": "2025-01-03T01:23:56.226307Z",
     "shell.execute_reply": "2025-01-03T01:23:56.225231Z"
    },
    "papermill": {
     "duration": 0.016744,
     "end_time": "2025-01-03T01:23:56.227919",
     "exception": false,
     "start_time": "2025-01-03T01:23:56.211175",
     "status": "completed"
    },
    "tags": []
   },
   "outputs": [
    {
     "data": {
      "text/plain": [
       "(np.float64(-76015.16811030782), np.float64(-485080.63300417864))"
      ]
     },
     "execution_count": 14,
     "metadata": {},
     "output_type": "execute_result"
    }
   ],
   "source": [
    "def compute_gradient(X, y, w, b):\n",
    "    f_wb = line_guess(X, w, b)\n",
    "    db = 0\n",
    "    dw = 0\n",
    "    for i in range(len(f_wb)):\n",
    "        dw_i = (f_wb[i] - y[i] ) * X[i] \n",
    "        db_i = f_wb[i] - y[i]\n",
    "        dw += dw_i\n",
    "        db += db_i\n",
    "    db = db / m\n",
    "    dw = dw / m\n",
    "    return db, dw\n",
    "compute_gradient(years, salary, w_manual, b_manual)"
   ]
  },
  {
   "cell_type": "code",
   "execution_count": 15,
   "id": "1a2501dd",
   "metadata": {
    "execution": {
     "iopub.execute_input": "2025-01-03T01:23:56.241636Z",
     "iopub.status.busy": "2025-01-03T01:23:56.241241Z",
     "iopub.status.idle": "2025-01-03T01:23:56.488407Z",
     "shell.execute_reply": "2025-01-03T01:23:56.487303Z"
    },
    "papermill": {
     "duration": 0.256144,
     "end_time": "2025-01-03T01:23:56.490370",
     "exception": false,
     "start_time": "2025-01-03T01:23:56.234226",
     "status": "completed"
    },
    "tags": []
   },
   "outputs": [
    {
     "data": {
      "text/plain": [
       "(np.float64(9880.81235761627), np.float64(21912.60040602907))"
      ]
     },
     "execution_count": 15,
     "metadata": {},
     "output_type": "execute_result"
    }
   ],
   "source": [
    "def gradient_descent(X, y, w, b, calculate_cost, compute_gradient, alpha, num_iters):\n",
    "    m = len(X)\n",
    "    w_final = w\n",
    "    b_final = b\n",
    "    for i in range(num_iters):\n",
    "        db, dw = compute_gradient(X, y, w_final, b_final)\n",
    "        w_final = w_final - alpha * dw\n",
    "        b_final = b_final - alpha * db\n",
    "    return w_final, b_final\n",
    "\n",
    "gradient_descent(years, salary, w_manual, b_manual, calculate_cost, compute_gradient, 0.01, 1000)"
   ]
  },
  {
   "cell_type": "code",
   "execution_count": 16,
   "id": "d3ac64b9",
   "metadata": {
    "execution": {
     "iopub.execute_input": "2025-01-03T01:23:56.504282Z",
     "iopub.status.busy": "2025-01-03T01:23:56.503900Z",
     "iopub.status.idle": "2025-01-03T01:23:56.748596Z",
     "shell.execute_reply": "2025-01-03T01:23:56.747456Z"
    },
    "papermill": {
     "duration": 0.253566,
     "end_time": "2025-01-03T01:23:56.750332",
     "exception": false,
     "start_time": "2025-01-03T01:23:56.496766",
     "status": "completed"
    },
    "tags": []
   },
   "outputs": [
    {
     "data": {
      "text/plain": [
       "array([ 33769.57523517,  35745.73770669,  37721.90017822,  42662.30635702,\n",
       "        44638.46882855,  51555.03747888,  52543.11871464,  54519.28118616,\n",
       "        54519.28118616,  59459.68736497,  61435.84983649,  62423.93107226,\n",
       "        62423.93107226,  63412.01230802,  67364.33725106,  71316.66219411,\n",
       "        73292.82466563,  75268.98713716,  81197.47455173,  82185.55578749,\n",
       "        90090.20567358,  93054.44938087, 100959.09926696, 103923.34297424,\n",
       "       108863.74915305, 111827.99286034, 116768.39903915, 117756.48027491,\n",
       "       124673.04892524, 126649.21139676])"
      ]
     },
     "execution_count": 16,
     "metadata": {},
     "output_type": "execute_result"
    }
   ],
   "source": [
    "m = len(years)\n",
    "predicted = np.zeros(m)\n",
    "w, b = gradient_descent(years, salary, w_manual, b_manual, calculate_cost, compute_gradient, 0.01, 1000)\n",
    "for i in range(m):\n",
    "    predicted[i] = w * years[i] + b\n",
    "predicted"
   ]
  },
  {
   "cell_type": "code",
   "execution_count": 17,
   "id": "84681399",
   "metadata": {
    "execution": {
     "iopub.execute_input": "2025-01-03T01:23:56.764954Z",
     "iopub.status.busy": "2025-01-03T01:23:56.764559Z",
     "iopub.status.idle": "2025-01-03T01:23:57.044164Z",
     "shell.execute_reply": "2025-01-03T01:23:57.043046Z"
    },
    "papermill": {
     "duration": 0.28866,
     "end_time": "2025-01-03T01:23:57.045719",
     "exception": false,
     "start_time": "2025-01-03T01:23:56.757059",
     "status": "completed"
    },
    "tags": []
   },
   "outputs": [
    {
     "data": {
      "text/plain": [
       "Text(0, 0.5, 'Salary')"
      ]
     },
     "execution_count": 17,
     "metadata": {},
     "output_type": "execute_result"
    },
    {
     "data": {
      "image/png": "[encoded data removed]",
      "text/plain": [
       "<Figure size 640x480 with 1 Axes>"
      ]
     },
     "metadata": {},
     "output_type": "display_data"
    }
   ],
   "source": [
    "plt.plot (years, predicted, c = 'b')\n",
    "\n",
    "plt.scatter(years, salary)\n",
    "\n",
    "init_salary_guess = line_guess(years, w_manual, b_manual)\n",
    "# labeling the scatter plot\n",
    "plt.title(\"Salary Dataset Linear Regression Model\")\n",
    "plt.xlabel('Years of Experience')\n",
    "plt.ylabel('Salary')\n",
    "\n"
   ]
  },
  {
   "cell_type": "code",
   "execution_count": 18,
   "id": "8b7b6765",
   "metadata": {
    "execution": {
     "iopub.execute_input": "2025-01-03T01:23:57.061185Z",
     "iopub.status.busy": "2025-01-03T01:23:57.060835Z",
     "iopub.status.idle": "2025-01-03T01:23:57.425927Z",
     "shell.execute_reply": "2025-01-03T01:23:57.424927Z"
    },
    "papermill": {
     "duration": 0.374796,
     "end_time": "2025-01-03T01:23:57.427609",
     "exception": false,
     "start_time": "2025-01-03T01:23:57.052813",
     "status": "completed"
    },
    "tags": []
   },
   "outputs": [
    {
     "data": {
      "text/plain": [
       "np.float64(68937.46516544378)"
      ]
     },
     "execution_count": 18,
     "metadata": {},
     "output_type": "execute_result"
    }
   ],
   "source": [
    "def guesser(x):\n",
    "    w_final, b_final = (gradient_descent(years, salary, w_manual, b_manual, calculate_cost, compute_gradient, 0.01, 1500))\n",
    "    y_guess = w_final * x + b_final\n",
    "    return y_guess\n",
    "guesser(4.7)"
   ]
  }
 ],
 "metadata": {
  "kaggle": {
   "accelerator": "none",
   "dataSources": [
    {
     "datasetId": 2799910,
     "sourceId": 4832081,
     "sourceType": "datasetVersion"
    }
   ],
   "dockerImageVersionId": 30822,
   "isGpuEnabled": false,
   "isInternetEnabled": false,
   "language": "python",
   "sourceType": "notebook"
  },
  "kernelspec": {
   "display_name": "Python 3",
   "language": "python",
   "name": "python3"
  },
  "language_info": {
   "codemirror_mode": {
    "name": "ipython",
    "version": 3
   },
   "file_extension": ".py",
   "mimetype": "text/x-python",
   "name": "python",
   "nbconvert_exporter": "python",
   "pygments_lexer": "ipython3",
   "version": "3.9.6"
  },
  "papermill": {
   "default_parameters": {},
   "duration": 5.242397,
   "end_time": "2025-01-03T01:23:57.954941",
   "environment_variables": {},
   "exception": null,
   "input_path": "__notebook__.ipynb",
   "output_path": "__notebook__.ipynb",
   "parameters": {},
   "start_time": "2025-01-03T01:23:52.712544",
   "version": "2.6.0"
  }
 },
 "nbformat": 4,
 "nbformat_minor": 5
}
